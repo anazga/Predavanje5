{
 "cells": [
  {
   "cell_type": "markdown",
   "metadata": {},
   "source": [
    "# Numerička matematika - 5. predavanje"
   ]
  },
  {
   "cell_type": "markdown",
   "metadata": {},
   "source": [
    "## 1.Ponavljanje s prethodnog predavanja"
   ]
  },
  {
   "cell_type": "markdown",
   "metadata": {},
   "source": [
    "Na prethodnim predavanjima napravili faktorizaciju Choleskog. \n",
    "\n",
    "\n",
    "**Zadatak** Odredite $\\alpha\\in \\mathbf{R}$ tako da matrica\n",
    "$$A_{\\alpha}=\\begin{bmatrix} 1& -3& -2& 4 \\\\  -3& 13& 2& -8\\\\ -2& 2& \\alpha & -4\\\\ 4& -8& -4& 45\\end{bmatrix}$$ bude pozitivno definitna.\n",
    "\n",
    "**Uputa** Za koji $\\alpha$ imamo rastav Choleskog?"
   ]
  },
  {
   "cell_type": "markdown",
   "metadata": {},
   "source": [
    "## 2.Trodijagonalni sustavi"
   ]
  },
  {
   "cell_type": "code",
   "execution_count": 2,
   "metadata": {
    "scrolled": false
   },
   "outputs": [
    {
     "data": {
      "image/jpeg": "[encoded data removed]",
      "text/html": [
       "\n",
       "        <iframe\n",
       "            width=\"400\"\n",
       "            height=\"300\"\n",
       "            src=\"https://www.youtube.com/embed/Yb6w6_v40eA\"\n",
       "            frameborder=\"0\"\n",
       "            allowfullscreen\n",
       "        ></iframe>\n",
       "        "
      ],
      "text/plain": [
       "<IPython.lib.display.YouTubeVideo at 0x279fc383ef0>"
      ]
     },
     "metadata": {},
     "output_type": "display_data"
    }
   ],
   "source": [
    "from IPython.lib.display import YouTubeVideo\n",
    "vid = YouTubeVideo(\"Yb6w6_v40eA\")\n",
    "display(vid)"
   ]
  },
  {
   "cell_type": "markdown",
   "metadata": {},
   "source": [
    "## Analiza pogreške rješenja\n"
   ]
  },
  {
   "cell_type": "markdown",
   "metadata": {},
   "source": [
    "Za početak iznesimo par tvrdnji koje će nam trebati tokom današnjeh predavanja i koje \n",
    "možete upamtiti bez dokaza.  Detaljnije o ovim tvrdnjama možete pročitati u skripti.\n",
    "\n",
    "\n",
    "**Tvrdnja 1.** Neka su $\\lambda_1,\\lambda_2, \\lambda_3,\\ldots ,\\lambda_n$ svojstvene vrijednosti matrice $A$, tada je $\\det A=\\lambda_1\\cdot \\lambda_2\\cdot\\ldots \\cdot \\lambda_n$. Dakle, ako je neka svojstvena vrijednost jednaka nuli matrica $A$ je singularna.\n",
    "\n",
    "\n",
    "**Tvrdnja 2.** Sve svojstvene vrijednosti simetrične matrice su realne.\n",
    "\n",
    "\n",
    "**Tvrdnja 3.** Svojstveni vektori simetrične matrice čine ortonormiranu bazu prostora $\\mathbf{R^n}.$\n",
    "\n",
    "\n",
    "** Tvrdnja 4.** Simetrična matrica $A$ je pozitivno definitna ako i samo ako su sve njezine svojstvene vrijednosti realne i pozitivne.\n",
    "\n",
    "\n",
    "** Tvrdnja 5. ** Pozitivno definitne matrice su regularne (Razmislite zašto!)."
   ]
  },
  {
   "cell_type": "code",
   "execution_count": 1,
   "metadata": {},
   "outputs": [
    {
     "data": {
      "image/jpeg": "[encoded data removed]",
      "text/html": [
       "\n",
       "        <iframe\n",
       "            width=\"400\"\n",
       "            height=\"300\"\n",
       "            src=\"https://www.youtube.com/embed/WqMibC4Bd5M\"\n",
       "            frameborder=\"0\"\n",
       "            allowfullscreen\n",
       "        ></iframe>\n",
       "        "
      ],
      "text/plain": [
       "<IPython.lib.display.YouTubeVideo at 0x279fc383e48>"
      ]
     },
     "metadata": {},
     "output_type": "display_data"
    }
   ],
   "source": [
    "from IPython.lib.display import YouTubeVideo\n",
    "vid = YouTubeVideo(\"WqMibC4Bd5M\") \n",
    "display(vid)"
   ]
  },
  {
   "cell_type": "markdown",
   "metadata": {},
   "source": [
    "**Zadatak.** U sljedećim linijama, možemo vidjeti primjer s početka videa ali koristeći Python, uvjerite se da iste brojeve dobivate i u Matlabu. Istražite koja naredba u Matlabu daje uvjetovanost matrice!"
   ]
  },
  {
   "cell_type": "code",
   "execution_count": 5,
   "metadata": {},
   "outputs": [
    {
     "name": "stdout",
     "output_type": "stream",
     "text": [
      "[[10  7  8  7]\n",
      " [ 7  5  6  5]\n",
      " [ 8  6 10  9]\n",
      " [ 7  5  9 10]]\n"
     ]
    }
   ],
   "source": [
    "import numpy as np\n",
    "import matplotlib.pyplot as plt\n",
    "import scipy.linalg as la\n",
    "%matplotlib inline\n",
    "A = np.array([[10,7,8, 7],[7,5,6, 5],[8,6,10,9],[7, 5, 9, 10]])\n",
    "print(A)"
   ]
  },
  {
   "cell_type": "code",
   "execution_count": 6,
   "metadata": {},
   "outputs": [
    {
     "name": "stdout",
     "output_type": "stream",
     "text": [
      "[[32]\n",
      " [23]\n",
      " [33]\n",
      " [31]]\n"
     ]
    }
   ],
   "source": [
    "b = np.array([[32],[23],[33], [31]])\n",
    "print(b)"
   ]
  },
  {
   "cell_type": "code",
   "execution_count": 8,
   "metadata": {},
   "outputs": [
    {
     "name": "stdout",
     "output_type": "stream",
     "text": [
      "[[1.]\n",
      " [1.]\n",
      " [1.]\n",
      " [1.]]\n"
     ]
    }
   ],
   "source": [
    "x1 = la.solve(A,b)\n",
    "print(x1)"
   ]
  },
  {
   "cell_type": "code",
   "execution_count": 9,
   "metadata": {},
   "outputs": [],
   "source": [
    "b1=np.array([[32.1],[22.9],[33.1], [30.9]])"
   ]
  },
  {
   "cell_type": "code",
   "execution_count": 10,
   "metadata": {},
   "outputs": [
    {
     "name": "stdout",
     "output_type": "stream",
     "text": [
      "[[  9.2]\n",
      " [-12.6]\n",
      " [  4.5]\n",
      " [ -1.1]]\n"
     ]
    }
   ],
   "source": [
    "x2 = la.solve(A,b1)\n",
    "print(x2)"
   ]
  },
  {
   "cell_type": "code",
   "execution_count": 11,
   "metadata": {},
   "outputs": [],
   "source": [
    "A1 = np.array([[10,7,8.1, 7.2],[7.08,5.04,6, 5],[8,5.98,9.89,9],[6.99, 4.99, 9, 9.98]])"
   ]
  },
  {
   "cell_type": "code",
   "execution_count": 12,
   "metadata": {},
   "outputs": [
    {
     "name": "stdout",
     "output_type": "stream",
     "text": [
      "[[-81.]\n",
      " [137.]\n",
      " [-34.]\n",
      " [ 22.]]\n"
     ]
    }
   ],
   "source": [
    "x3 = la.solve(A1,b)\n",
    "print(x3)"
   ]
  },
  {
   "cell_type": "code",
   "execution_count": 13,
   "metadata": {},
   "outputs": [
    {
     "name": "stdout",
     "output_type": "stream",
     "text": [
      "[3.02886853e+01+0.j 3.85805746e+00+0.j 1.01500484e-02+0.j\n",
      " 8.43107150e-01+0.j]\n"
     ]
    }
   ],
   "source": [
    "eigvals, eigvecs = la.eig(A)\n",
    "print(eigvals)"
   ]
  },
  {
   "cell_type": "code",
   "execution_count": 14,
   "metadata": {},
   "outputs": [
    {
     "name": "stdout",
     "output_type": "stream",
     "text": [
      "[3.02886853e+01 3.85805746e+00 1.01500484e-02 8.43107150e-01]\n"
     ]
    }
   ],
   "source": [
    "eigvals = eigvals.real\n",
    "print(eigvals)"
   ]
  },
  {
   "cell_type": "code",
   "execution_count": 15,
   "metadata": {},
   "outputs": [
    {
     "name": "stdout",
     "output_type": "stream",
     "text": [
      "3.858057455944948\n"
     ]
    }
   ],
   "source": [
    "lambda1 = eigvals[1]\n",
    "print(lambda1)"
   ]
  },
  {
   "cell_type": "code",
   "execution_count": 16,
   "metadata": {},
   "outputs": [
    {
     "name": "stdout",
     "output_type": "stream",
     "text": [
      "0.010150048397887922\n"
     ]
    }
   ],
   "source": [
    "lambda2 = eigvals[2]\n",
    "print(lambda2)"
   ]
  },
  {
   "cell_type": "code",
   "execution_count": 17,
   "metadata": {},
   "outputs": [
    {
     "name": "stdout",
     "output_type": "stream",
     "text": [
      "0.8431071498550317\n"
     ]
    }
   ],
   "source": [
    "lambda3 = eigvals[3]\n",
    "print(lambda3)"
   ]
  },
  {
   "cell_type": "code",
   "execution_count": 19,
   "metadata": {},
   "outputs": [
    {
     "name": "stdout",
     "output_type": "stream",
     "text": [
      "30.288685345802072\n"
     ]
    }
   ],
   "source": [
    "lambda4 = eigvals[0]\n",
    "print(lambda4)"
   ]
  },
  {
   "cell_type": "markdown",
   "metadata": {},
   "source": [
    "# Primjer 1\n",
    "Neka je $$\\begin{bmatrix} 1& 1\\\\ 1& 1.0001\\end{bmatrix}$$\n",
    "Nadalje, neka je $b=\\begin{bmatrix} 2\\\\ 2\\end{bmatrix}$ i\n",
    "$ b'=\\begin{bmatrix} 2\\\\ 2.0001\\end{bmatrix}$."
   ]
  },
  {
   "cell_type": "markdown",
   "metadata": {},
   "source": [
    "Uočimo da je tada $\\delta b=b'-b=\\begin{bmatrix}0\\\\ 10^{-4}\\end{bmatrix}$. Nadalje, ako izračunamo $x$ kao rješenje sustava $Ax=b$ dobivamo\n",
    "$x=\\begin{bmatrix}2\\\\ 0\\end{bmatrix}$ i $x'=\\begin{bmatrix}1\\\\ 1\\end{bmatrix}.$\n",
    "pa je $\\delta x=x'-x=\\begin{bmatrix}-1\\\\ 1\\end{bmatrix}$\n",
    "Direktno možemo koristeći euklidsku normu izračunati relativnu pogrešku\n",
    "$$\\frac{\\|\\delta x\\|}{\\|x\\|}=\\frac{\\sqrt{2}}{2}$$\n",
    "Također vidi se da je \n",
    "$$\\frac{\\|\\delta b\\|}{\\|b\\|}=\\frac{1}{4}\\cdot \\sqrt{2}\\cdot 10^{-4}$$\n",
    "Direktnim računom dobivamo\n",
    "$$\\frac{\\|\\delta x\\|}{\\|x\\|}=2\\cdot 10^4\\frac{\\|\\delta b\\|}{\\|b\\|}$$\n",
    "\n",
    "Dakle, $\\kappa(A)\\geq 2\\cdot 10^4.$\n",
    "\n",
    "Možemo i izračunati $\\kappa(A)$ budući da je matrica simetrična pozitivno definitna i dobivamo\n",
    "$$\\kappa(A)=\\frac{\\lambda_{max}}{\\lambda_{min}}=\\frac{2+\\frac{10^{-4}}{2}}{\\frac{10^{-4}}{2}}\\approx 4\\cdot 10^4.$$\n",
    "Ova je matrica loše uvjetovana.\n"
   ]
  },
  {
   "cell_type": "markdown",
   "metadata": {},
   "source": [
    "# Primjer 2\n",
    "Zadana je matrica\n",
    "$$A=\\begin{bmatrix} 4.1& 2.8\\\\\n",
    "9.7& 6.6\\end{bmatrix}$$\n",
    "te vektori $b=\\begin{bmatrix} 4.1\\\\ 9.7\\end{bmatrix}$ i $b'=\\begin{bmatrix}4.11\\\\ 9.70\\end{bmatrix}$"
   ]
  },
  {
   "cell_type": "markdown",
   "metadata": {},
   "source": [
    "Rješavanjem sustava $Ax=b$ lako se dobiva $x=\\begin{bmatrix}1\\\\ 0\\end{bmatrix}$"
   ]
  },
  {
   "cell_type": "markdown",
   "metadata": {},
   "source": [
    "Lako se vidi da $x'=\\begin{bmatrix}0.34\\\\ 0.97\\end{bmatrix}.$\n",
    "Dobije se $\\quad \\delta b=b'-b=\\begin{bmatrix} 0.01\\\\ 0\\end{bmatrix}$ i $\\quad \\delta x=x'-x=\\begin{bmatrix}-0.66\\\\ 0.97\\end{bmatrix}$"
   ]
  },
  {
   "cell_type": "markdown",
   "metadata": {},
   "source": [
    "U Matlabu možete isprobati naredbe norm(x,1) i norm(A,1) za izračun norme 1 vektora $x$ i matrice $A$. Jednostavno vidimo\n",
    "$\\|\\delta b\\|_1=0.01$, $\\|\\delta x\\|_1=1.63,$ $\\|b\\|_1=13.8$, $\\|x\\|_1=1.$\n",
    "\n",
    "\n",
    "Relativna pogreška rješenja: $\\frac{\\|\\delta x\\|_1}{\\|x\\|_1}=\\frac{1.63}{1}=1.63$\n",
    "\n",
    "Relativna pogreška desne strane: $\\frac{\\|\\delta b\\|_1}{\\|b\\|_1}=\\frac{0.01}{13.8}=7.25\\cdot 10^{-4}$\n",
    "\n",
    "\n",
    "Dakle $\\kappa(A)$ je reda veličine oko $10^4$. Zaista ako isprobbamo naredbu  u Matlabu cond(A,1) dobijemo uvjetovanost u normi 1 koja iznosi $2.2494\\cdot 10^3$."
   ]
  }
 ],
 "metadata": {
  "kernelspec": {
   "display_name": "Python 3",
   "language": "python",
   "name": "python3"
  },
  "language_info": {
   "codemirror_mode": {
    "name": "ipython",
    "version": 3
   },
   "file_extension": ".py",
   "mimetype": "text/x-python",
   "name": "python",
   "nbconvert_exporter": "python",
   "pygments_lexer": "ipython3",
   "version": "3.6.4"
  }
 },
 "nbformat": 4,
 "nbformat_minor": 2
}
